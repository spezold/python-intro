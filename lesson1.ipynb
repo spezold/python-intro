{
 "cells": [
  {
   "cell_type": "markdown",
   "metadata": {
    "slideshow": {
     "slide_type": "-"
    }
   },
   "source": [
    "<h1><center>Python in a Nutshell</center></h1>\n",
    "<h2><center>A (very) brief introduction for Matlab users</center></h2>\n",
    "<br/>\n",
    "<br/>\n",
    "<center>Simon Pezold,</center>\n",
    "<center>December 11, 2018</center>"
   ]
  },
  {
   "cell_type": "markdown",
   "metadata": {
    "slideshow": {
     "slide_type": "slide"
    }
   },
   "source": [
    "# Goal of the next two sessions\n",
    "\n",
    "## Get to know …"
   ]
  },
  {
   "cell_type": "markdown",
   "metadata": {
    "slideshow": {
     "slide_type": "fragment"
    }
   },
   "source": [
    "* the Python programming language\n",
    "* similarities and differences between Python and Matlab\n",
    "* standard Python libraries for numerics, data I/O, image processing, plotting\n",
    "* tools to write, execute (and debug) Python code"
   ]
  },
  {
   "cell_type": "markdown",
   "metadata": {
    "slideshow": {
     "slide_type": "subslide"
    }
   },
   "source": [
    "# Prerequisites\n",
    "## What you need"
   ]
  },
  {
   "cell_type": "markdown",
   "metadata": {
    "slideshow": {
     "slide_type": "fragment"
    }
   },
   "source": [
    "* for now, just an up-to-date browser\n",
    "* go to https://mybinder.org/v2/gh/spezold/python-intro/master\n",
    "* click on *launch binder*"
   ]
  },
  {
   "cell_type": "markdown",
   "metadata": {
    "slideshow": {
     "slide_type": "subslide"
    }
   },
   "source": [
    "# Your (inevitable) first line of code\n",
    "## Hello, world!\n",
    "Write `print(\"Hello, world!\")` in the field below, then press `Shift`+`Enter`."
   ]
  },
  {
   "cell_type": "code",
   "execution_count": null,
   "metadata": {
    "slideshow": {
     "slide_type": "-"
    }
   },
   "outputs": [],
   "source": [
    "print(\"Hello\")"
   ]
  },
  {
   "cell_type": "markdown",
   "metadata": {
    "slideshow": {
     "slide_type": "subslide"
    }
   },
   "source": [
    "# The big picture I\n",
    "## Python vs. Matlab: What is *similar*?"
   ]
  },
  {
   "cell_type": "markdown",
   "metadata": {
    "slideshow": {
     "slide_type": "-"
    }
   },
   "source": [
    "Python is a programming language. Similar to Matlab's programming language, we have\n",
    "* a clearly defined syntax\n",
    "* different data types\n",
    "* variables\n",
    "* operators\n",
    "* means of control flow (loops, `if` statements, …)\n",
    "* functions (and classes and methods …)\n",
    "* …"
   ]
  },
  {
   "cell_type": "markdown",
   "metadata": {
    "slideshow": {
     "slide_type": "subslide"
    }
   },
   "source": [
    "# The big picture II\n",
    "## Python vs. Matlab: What is *different*?"
   ]
  },
  {
   "cell_type": "markdown",
   "metadata": {
    "slideshow": {
     "slide_type": "-"
    }
   },
   "source": [
    "* Python's syntax is different from Matlab's\n",
    "  * Some code looks quite different\n",
    "  * Some code looks familiar, but has a different meaning\n",
    "* Python is *only* a programming language\n",
    "  * We have multiple ways to write and execute Python code\n",
    "* Python is a *general purpose* programming language\n",
    "  * Functionality like numerics and plotting need to be explicitly included in a project\n",
    "* Python libraries are developed by multiple *(third) parties*\n",
    "  * For certain functionality, there might be (a) multiple implementations or (b) no implementations at all\n",
    "  * Documentation of these third-party libraries is very heterogeneous\n",
    "* Python is *free* software\n",
    "  * No cost\n",
    "  * You could (theoretically) create/adapt your own version of Python\n",
    "  * Still, Python may be used to write commercial software"
   ]
  },
  {
   "cell_type": "markdown",
   "metadata": {
    "slideshow": {
     "slide_type": "subslide"
    }
   },
   "source": [
    "# Further reading"
   ]
  },
  {
   "cell_type": "markdown",
   "metadata": {
    "slideshow": {
     "slide_type": "fragment"
    }
   },
   "source": [
    "### General Python introductions\n",
    "\n",
    "Jake VanderPlas: *A Whirlwind Tour of Python*\n",
    "\n",
    "* A brief general introduction to the Python programming language\n",
    "* [Free PDF version](http://www.oreilly.com/programming/free/files/a-whirlwind-tour-of-python.pdf) (ca. 100 pages)\n",
    "* [Github repository](https://github.com/jakevdp/WhirlwindTourOfPython)\n",
    "\n",
    "Jake VanderPlas: *Python Data Science Handbook*\n",
    "\n",
    "* Building on *A Whirlwind Tour of Python*\n",
    "* Special focus on Python use in science (data input/output, numerics, visualization)\n",
    "* [Free HTML version](https://jakevdp.github.io/PythonDataScienceHandbook/)\n",
    "* [Github repository](https://github.com/jakevdp/PythonDataScienceHandbook)"
   ]
  },
  {
   "cell_type": "markdown",
   "metadata": {
    "slideshow": {
     "slide_type": "fragment"
    }
   },
   "source": [
    "### Python for Matlab users\n",
    "\n",
    "* *Enthought*'s webinar: [*Python for MATLAB Users, What You Need to Know*](https://www.youtube.com/watch?v=YkCegjtoHFQ) (YouTube video, ca. 45 minutes)\n",
    "* Official documentation of the NumPy/SciPy packages: [*NumPy for Matlab users*](https://docs.scipy.org/doc/numpy-1.15.0/user/numpy-for-matlab-users.html)\n",
    "* Scott Sievert: [*Stepping from Matlab to Python*](https://stsievert.com/blog/2015/09/01/matlab-to-python/) (extensive blog post with some practival guidance)\n",
    "* *Mathesaurus*: [*NumPy for MATLAB users*](http://mathesaurus.sourceforge.net/matlab-numpy.html) (extensive comparison table, but a bit outdated)"
   ]
  },
  {
   "cell_type": "markdown",
   "metadata": {
    "slideshow": {
     "slide_type": "slide"
    }
   },
   "source": [
    "# Python syntax overview"
   ]
  },
  {
   "cell_type": "markdown",
   "metadata": {
    "slideshow": {
     "slide_type": "fragment"
    }
   },
   "source": [
    "Let's look at the following bit of code (and run it by pressing `Shift`+`Enter`):"
   ]
  },
  {
   "cell_type": "code",
   "execution_count": null,
   "metadata": {
    "slideshow": {
     "slide_type": "-"
    }
   },
   "outputs": [],
   "source": [
    "i = \"Hello!\"\n",
    "print(\"Before the loop:\", i)\n",
    "for i in range(3):  # `i` will iterate over 3 values: 0, 1, 2\n",
    "    if i == 1:\n",
    "        print(\"This is special - iteration\", i)\n",
    "    else:\n",
    "        print(\"Inside the loop - iteration\", i)\n",
    "print(\"After the loop!\")"
   ]
  },
  {
   "cell_type": "markdown",
   "metadata": {
    "slideshow": {
     "slide_type": "-"
    }
   },
   "source": [
    "### Things to note:\n",
    "* Comments start with `#`\n",
    "* There is no special end-of-line marker\n",
    "* Indentation matters!"
   ]
  },
  {
   "cell_type": "markdown",
   "metadata": {
    "slideshow": {
     "slide_type": "subslide"
    }
   },
   "source": [
    "### End of line"
   ]
  },
  {
   "cell_type": "markdown",
   "metadata": {
    "slideshow": {
     "slide_type": "fragment"
    }
   },
   "source": [
    "In general, the end of a line of Python code is the end of the line of text."
   ]
  },
  {
   "cell_type": "code",
   "execution_count": null,
   "metadata": {
    "slideshow": {
     "slide_type": "-"
    }
   },
   "outputs": [],
   "source": [
    "x = 1\n",
    "y = x + 1"
   ]
  },
  {
   "cell_type": "markdown",
   "metadata": {
    "slideshow": {
     "slide_type": "fragment"
    }
   },
   "source": [
    "To fuse two consecutive lines, either use brackets `()` or a backslash `\\`."
   ]
  },
  {
   "cell_type": "code",
   "execution_count": null,
   "metadata": {},
   "outputs": [],
   "source": [
    "m = (1 + 1 +\n",
    "     1 + 1)\n",
    "n = 1 + 2 + \\\n",
    "    3 + 4"
   ]
  },
  {
   "cell_type": "markdown",
   "metadata": {
    "slideshow": {
     "slide_type": "fragment"
    }
   },
   "source": [
    "To produce an output, use the `print` function."
   ]
  },
  {
   "cell_type": "code",
   "execution_count": null,
   "metadata": {},
   "outputs": [],
   "source": [
    "print(x)\n",
    "print(m)"
   ]
  },
  {
   "cell_type": "markdown",
   "metadata": {
    "slideshow": {
     "slide_type": "fragment"
    }
   },
   "source": [
    "We can use a semicolon `;` to put two lines of Python code onto the same line of text."
   ]
  },
  {
   "cell_type": "code",
   "execution_count": null,
   "metadata": {},
   "outputs": [],
   "source": [
    "a = 1; b = 2\n",
    "# This is equivalent to\n",
    "a = 1\n",
    "b = 2\n",
    "# We can do the same with function calls:\n",
    "print(a); print(b)"
   ]
  },
  {
   "cell_type": "markdown",
   "metadata": {
    "slideshow": {
     "slide_type": "subslide"
    }
   },
   "source": [
    "### Indentation"
   ]
  },
  {
   "cell_type": "code",
   "execution_count": null,
   "metadata": {},
   "outputs": [],
   "source": [
    "for i in range(3):  # `i` will iterate over 3 values: 0, 1, 2\n",
    "    if i == 1:\n",
    "        print(\"This is special - iteration\", i)\n",
    "    else:\n",
    "        print(\"Inside the loop - iteration\", i)\n",
    "print(\"After the loop!\")"
   ]
  },
  {
   "cell_type": "markdown",
   "metadata": {},
   "source": [
    "* Look at the `for` loop or the `if`-`else` statements: There is no such thing as \"end\", \"endif\", or \"endfor\" in Python.\n",
    "* What belongs to the loop and to the parts of the condition really only depends on the level of indentation\n",
    "* For indentation, either use tabs or spaces (usually 4). Both works, but don't mix them."
   ]
  },
  {
   "cell_type": "markdown",
   "metadata": {},
   "source": [
    "# Variables"
   ]
  },
  {
   "cell_type": "markdown",
   "metadata": {
    "slideshow": {
     "slide_type": "fragment"
    }
   },
   "source": [
    "Python, like Matlab, is a *dynamically typed* language. This means, a variable can change its type over time. The following code is perfectly fine."
   ]
  },
  {
   "cell_type": "code",
   "execution_count": null,
   "metadata": {},
   "outputs": [],
   "source": [
    "x = 1          # now, `x` is an integer\n",
    "x = \"hello\"    # now, `x` is a string\n",
    "x = [0, 1, 2]  # now `x` is a list"
   ]
  },
  {
   "cell_type": "markdown",
   "metadata": {
    "slideshow": {
     "slide_type": "fragment"
    }
   },
   "source": [
    "What do you think will be the output of `print(v2)`? Press `Shift`+`Enter` to find out. What would have happened in Matlab?"
   ]
  },
  {
   "cell_type": "code",
   "execution_count": null,
   "metadata": {},
   "outputs": [],
   "source": [
    "v1 = [1, 2, 3]  # Create a list that contains the integers 1, 2, 3\n",
    "v2 = v1\n",
    "v1.append(27)   # Append the integer 27 at the end of `[1, 2, 3]`\n",
    "print(v1)\n",
    "print(v2)"
   ]
  },
  {
   "cell_type": "markdown",
   "metadata": {
    "slideshow": {
     "slide_type": "fragment"
    }
   },
   "source": [
    "* Variable `v2` is the same list as variable `v1`! In Matlab, we would have gotten `[1, 2, 3]` for `v2` instead!\n",
    "* Rather than thinking of Python variables as \"buckets for values\" we should think of them as \"pointers to values\":\n",
    "  * Both `v1` and `v2` refer to the *same junk of computer memory* that actually contains our integers 1, 2, 3.\n",
    "  * Once we append 27 to the list, the change is reflected in both variables.\n",
    "  * We would have achieved the same result, writing `v2.append(27)` rather than `v1.append(27)`."
   ]
  },
  {
   "cell_type": "markdown",
   "metadata": {
    "slideshow": {
     "slide_type": "fragment"
    }
   },
   "source": [
    "What do you think will now be the output of `print(v2)`? Press `Shift`+`Enter` to find out. Does the result still fit to the \"pointers vs. buckets\" idea?"
   ]
  },
  {
   "cell_type": "code",
   "execution_count": null,
   "metadata": {},
   "outputs": [],
   "source": [
    "v1 = [1, 2, 3]\n",
    "v2 = v1\n",
    "v1 = [1, 2, 3, 27]\n",
    "print(v1)\n",
    "print(v2)"
   ]
  },
  {
   "cell_type": "markdown",
   "metadata": {
    "slideshow": {
     "slide_type": "fragment"
    }
   },
   "source": [
    "* Although we wrote `v2 = v1`, printing the variables `v1` and `v2` shows different values in the end.\n",
    "* This is because of the line `v1 = [1, 2, 3, 27]`:\n",
    "  * It creates a new list in a separate junk of computer memory …\n",
    "  * … and immediately makes `v1` refer to the new junk.\n",
    "  * At the same time, `v2` still refers to the original junk of memory with the original list."
   ]
  },
  {
   "cell_type": "markdown",
   "metadata": {
    "slideshow": {
     "slide_type": "fragment"
    }
   },
   "source": [
    "What do you think will now be the output of `print(v2)`?"
   ]
  },
  {
   "cell_type": "code",
   "execution_count": null,
   "metadata": {},
   "outputs": [],
   "source": [
    "v1 = 1\n",
    "v2 = v1\n",
    "v1 = v1 + 1\n",
    "print(v1)\n",
    "print(v2)"
   ]
  },
  {
   "cell_type": "markdown",
   "metadata": {
    "slideshow": {
     "slide_type": "fragment"
    }
   },
   "source": [
    "* Again, the third line `v1 = v2 + 1` is essential for the different outputs:\n",
    "  * It reads the value to which `v1` refers (which is 1), …\n",
    "  * … it adds 1, puts the result into a new junk of computer memory …\n",
    "  * … and immediately makes `v1` refer to the new junk.\n",
    "  * At the same time, `v2` still refers to the original junk of memory with the original value.\n",
    "* We can see this by printing, after each line, the `id` of our variables (which is actually the memory address of our \"junks of memory\"):"
   ]
  },
  {
   "cell_type": "code",
   "execution_count": null,
   "metadata": {
    "slideshow": {
     "slide_type": "fragment"
    }
   },
   "outputs": [],
   "source": [
    "v1 = 1       # Line 1\n",
    "print(\"v1 is located at\", id(v1))\n",
    "v2 = v1      # Line 2\n",
    "print(\"v2 is located at\", id(v2))\n",
    "v1 = v1 + 1  # Line 3   \n",
    "print(\"v1 is located at\", id(v1))\n",
    "print(\"v2 is located at\", id(v2))"
   ]
  },
  {
   "cell_type": "markdown",
   "metadata": {},
   "source": [
    "* In `Line 1`, we reserve a new junk of memory, put 1 there, and let `v1` refer to it.\n",
    "* After `Line 2`, both  `v1` and `v2` point to the same junk of memory – they have the same memory adress.\n",
    "* After `Line 3`, `v1` points to a *new* junk of memory (new memory address) that now contains the result of our addition.\n",
    "* At the same time, `v2` still points to the original junk of memory (old memory address) that still contains the old value (1).\n",
    "\n",
    "**Bonus question**: What happens if you type `print(id(1))` and `print(id(2))`? Does that make sense?"
   ]
  },
  {
   "cell_type": "code",
   "execution_count": null,
   "metadata": {},
   "outputs": [],
   "source": []
  },
  {
   "cell_type": "markdown",
   "metadata": {
    "slideshow": {
     "slide_type": "fragment"
    }
   },
   "source": [
    "For a more detailed explanation, see to the Python FAQ: [*Why did changing list ‘y’ also change list ‘x’?*](https://docs.python.org/3/faq/programming.html#why-did-changing-list-y-also-change-list-x)"
   ]
  },
  {
   "cell_type": "code",
   "execution_count": null,
   "metadata": {},
   "outputs": [],
   "source": []
  }
 ],
 "metadata": {
  "celltoolbar": "Slideshow",
  "kernelspec": {
   "display_name": "Python 3",
   "language": "python",
   "name": "python3"
  },
  "language_info": {
   "codemirror_mode": {
    "name": "ipython",
    "version": 3
   },
   "file_extension": ".py",
   "mimetype": "text/x-python",
   "name": "python",
   "nbconvert_exporter": "python",
   "pygments_lexer": "ipython3",
   "version": "3.6.5"
  },
  "rise": {
   "autolaunch": false
  }
 },
 "nbformat": 4,
 "nbformat_minor": 2
}
