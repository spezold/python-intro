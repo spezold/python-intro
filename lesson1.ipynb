{
 "cells": [
  {
   "cell_type": "markdown",
   "metadata": {
    "slideshow": {
     "slide_type": "-"
    }
   },
   "source": [
    "<h1><center>Python in a Nutshell</center></h1>\n",
    "<h2><center>A (very) brief introduction for Matlab users</center></h2>\n",
    "<br/>\n",
    "<br/>\n",
    "<center>Simon Pezold,</center>\n",
    "<center>December 11, 2018</center>"
   ]
  },
  {
   "cell_type": "markdown",
   "metadata": {
    "slideshow": {
     "slide_type": "slide"
    }
   },
   "source": [
    "# Goal of the next two sessions\n",
    "\n",
    "## Get to know …"
   ]
  },
  {
   "cell_type": "markdown",
   "metadata": {
    "slideshow": {
     "slide_type": "fragment"
    }
   },
   "source": [
    "* the Python programming language\n",
    "* similarities and differences between Python and Matlab\n",
    "* standard Python libraries for numerics, data I/O, image processing, plotting\n",
    "* tools to write, execute (and debug) Python code"
   ]
  },
  {
   "cell_type": "markdown",
   "metadata": {
    "slideshow": {
     "slide_type": "subslide"
    }
   },
   "source": [
    "# Prerequisites\n",
    "## What you need"
   ]
  },
  {
   "cell_type": "markdown",
   "metadata": {
    "slideshow": {
     "slide_type": "fragment"
    }
   },
   "source": [
    "* for now, just an up-to-date browser\n",
    "* go to https://mybinder.org/v2/gh/spezold/python-intro/master\n",
    "* click on *launch binder*"
   ]
  },
  {
   "cell_type": "markdown",
   "metadata": {
    "slideshow": {
     "slide_type": "subslide"
    }
   },
   "source": [
    "# Your (inevitable) first line of code\n",
    "## Hello, world!\n",
    "[Exercise] Write `print(\"Hello, world!\")` in the field below, then press `Shift`+`Enter`."
   ]
  },
  {
   "cell_type": "code",
   "execution_count": null,
   "metadata": {
    "slideshow": {
     "slide_type": "-"
    }
   },
   "outputs": [],
   "source": []
  },
  {
   "cell_type": "markdown",
   "metadata": {
    "slideshow": {
     "slide_type": "subslide"
    }
   },
   "source": [
    "# The big picture I\n",
    "## Python vs. Matlab: What is *similar*?"
   ]
  },
  {
   "cell_type": "markdown",
   "metadata": {
    "slideshow": {
     "slide_type": "-"
    }
   },
   "source": [
    "Python is a programming language, thus similar to Matlab (the programming language), we have\n",
    "* a clearly defined syntax\n",
    "* different data types\n",
    "* variables\n",
    "* operators\n",
    "* means of control flow (loops, if statements, …)\n",
    "* functions (and classes and methods …)\n",
    "* …"
   ]
  },
  {
   "cell_type": "markdown",
   "metadata": {
    "slideshow": {
     "slide_type": "subslide"
    }
   },
   "source": [
    "# The big picture II\n",
    "## Python vs. Matlab: What is *different*?"
   ]
  },
  {
   "cell_type": "markdown",
   "metadata": {
    "slideshow": {
     "slide_type": "-"
    }
   },
   "source": [
    "* Python's syntax is different from Matlab's\n",
    "  * Some code looks quite different\n",
    "  * Some code looks familiar, but has a different meaning\n",
    "* Python is *only* a programming language\n",
    "  * We have multiple ways to write and execute Python code\n",
    "* Python is a *general purpose* programming language\n",
    "  * Functionality like numerics and plotting need to be explicitly included in a project\n",
    "* Python libraries are developed by multiple *(third) parties*\n",
    "  * For certain functionality, there might be (a) multiple implementations or (b) no implementations at all\n",
    "  * Documentation of these third-party libraries is very heterogeneous\n",
    "* Python is *free* software\n",
    "  * No cost\n",
    "  * You could (theoretically) create/adapt your own version of Python\n",
    "  * Still, Python may be used to write commercial software"
   ]
  },
  {
   "cell_type": "markdown",
   "metadata": {
    "slideshow": {
     "slide_type": "subslide"
    }
   },
   "source": [
    "# Further reading\n",
    "## Additional introductory material"
   ]
  },
  {
   "cell_type": "markdown",
   "metadata": {
    "slideshow": {
     "slide_type": "fragment"
    }
   },
   "source": [
    "### General Python introductions\n",
    "\n",
    "Jake VanderPlas: *A Whirlwind Tour of Python*\n",
    "\n",
    "* A brief general introduction to the Python programming language\n",
    "* [Free PDF version](http://www.oreilly.com/programming/free/files/a-whirlwind-tour-of-python.pdf) (ca. 100 pages)\n",
    "* [Github repository](https://github.com/jakevdp/WhirlwindTourOfPython)\n",
    "\n",
    "Jake VanderPlas: *Python Data Science Handbook*\n",
    "\n",
    "* Building on *A Whirlwind Tour of Python*\n",
    "* Special focus on Python use in science (data input/output, numerics, visualization)\n",
    "* [Free HTML version](https://jakevdp.github.io/PythonDataScienceHandbook/)\n",
    "* [Github repository](https://github.com/jakevdp/PythonDataScienceHandbook)"
   ]
  },
  {
   "cell_type": "markdown",
   "metadata": {
    "slideshow": {
     "slide_type": "fragment"
    }
   },
   "source": [
    "### Python for Matlab users\n",
    "\n",
    "* *Enthought*'s webinar: [*Python for MATLAB Users, What You Need to Know*](https://www.youtube.com/watch?v=YkCegjtoHFQ) (YouTube video, ca. 45 minutes)\n",
    "* Official documentation of the NumPy/SciPy packages: [*NumPy for Matlab users*](https://docs.scipy.org/doc/numpy-1.15.0/user/numpy-for-matlab-users.html)\n",
    "* Scott Sievert: [*Stepping from Matlab to Python*](https://stsievert.com/blog/2015/09/01/matlab-to-python/) (extensive blog post with some practival guidance)\n",
    "* *Mathesaurus*: [*NumPy for MATLAB users*](http://mathesaurus.sourceforge.net/matlab-numpy.html) (extensive comparison table, but a bit outdated)"
   ]
  },
  {
   "cell_type": "code",
   "execution_count": null,
   "metadata": {
    "slideshow": {
     "slide_type": "slide"
    }
   },
   "outputs": [],
   "source": []
  },
  {
   "cell_type": "code",
   "execution_count": null,
   "metadata": {},
   "outputs": [],
   "source": []
  }
 ],
 "metadata": {
  "celltoolbar": "Slideshow",
  "kernelspec": {
   "display_name": "Python 3",
   "language": "python",
   "name": "python3"
  },
  "language_info": {
   "codemirror_mode": {
    "name": "ipython",
    "version": 3
   },
   "file_extension": ".py",
   "mimetype": "text/x-python",
   "name": "python",
   "nbconvert_exporter": "python",
   "pygments_lexer": "ipython3",
   "version": "3.6.5"
  },
  "rise": {
   "autolaunch": false
  }
 },
 "nbformat": 4,
 "nbformat_minor": 2
}
