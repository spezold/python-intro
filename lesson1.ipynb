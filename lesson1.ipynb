{
 "cells": [
  {
   "cell_type": "markdown",
   "metadata": {
    "slideshow": {
     "slide_type": "-"
    }
   },
   "source": [
    "<h1><center>Python in a Nutshell</center></h1>\n",
    "<h2><center>A (very) brief introduction for Matlab users</center></h2>\n",
    "<br/>\n",
    "<br/>\n",
    "<center>Simon Pezold,</center>\n",
    "<center>December 11, 2018</center>"
   ]
  },
  {
   "cell_type": "markdown",
   "metadata": {
    "slideshow": {
     "slide_type": "slide"
    }
   },
   "source": [
    "# Goal of the next two sessions\n",
    "\n",
    "## Get to know …"
   ]
  },
  {
   "cell_type": "markdown",
   "metadata": {
    "slideshow": {
     "slide_type": "fragment"
    }
   },
   "source": [
    "* the Python programming language\n",
    "* similarities and differences between Python and Matlab\n",
    "* standard Python libraries for numerics, data I/O, image processing, data visualization\n",
    "* tools to write, execute (and debug) Python code\n",
    "\n",
    "**Side note**: This tutorial covers the most recent version of Python as of writing, which is 3.X. Jumping from Python 2 to Python 3, some changes were made to the language that make these versions sometimes behave differently. Differing Python 2 behavior will *not* be pointed out here."
   ]
  },
  {
   "cell_type": "markdown",
   "metadata": {
    "slideshow": {
     "slide_type": "slide"
    }
   },
   "source": [
    "# Prerequisites\n",
    "## What you need"
   ]
  },
  {
   "cell_type": "markdown",
   "metadata": {
    "slideshow": {
     "slide_type": "fragment"
    }
   },
   "source": [
    "* for now, just an up-to-date browser\n",
    "* go to https://github.com/spezold/python-intro\n",
    "* click on *launch binder*"
   ]
  },
  {
   "cell_type": "markdown",
   "metadata": {
    "slideshow": {
     "slide_type": "slide"
    }
   },
   "source": [
    "# Your (inevitable) first line of code\n",
    "## Hello, world!\n",
    "Write `print(\"Hello, world!\")` in the field below, then press `Shift`+`Enter`."
   ]
  },
  {
   "cell_type": "code",
   "execution_count": null,
   "metadata": {
    "slideshow": {
     "slide_type": "-"
    }
   },
   "outputs": [],
   "source": []
  },
  {
   "cell_type": "markdown",
   "metadata": {
    "slideshow": {
     "slide_type": "slide"
    }
   },
   "source": [
    "# The big picture\n",
    "## Python vs. Matlab: What is *similar*?"
   ]
  },
  {
   "cell_type": "markdown",
   "metadata": {
    "slideshow": {
     "slide_type": "-"
    }
   },
   "source": [
    "Python is a programming language. Similar to Matlab's programming language, we have\n",
    "* a clearly defined syntax\n",
    "* different data types\n",
    "* variables\n",
    "* operators\n",
    "* means of control flow (loops, `if` statements, …)\n",
    "* functions (and classes and methods …)\n",
    "* …"
   ]
  },
  {
   "cell_type": "markdown",
   "metadata": {
    "slideshow": {
     "slide_type": "slide"
    }
   },
   "source": [
    "# The big picture\n",
    "## Python vs. Matlab: What is *different*?"
   ]
  },
  {
   "cell_type": "markdown",
   "metadata": {
    "slideshow": {
     "slide_type": "-"
    }
   },
   "source": [
    "* Python's syntax is different from Matlab's\n",
    "  * Some code looks quite different\n",
    "  * Some code may look familiar, but has a different meaning\n",
    "* Python is *only* a programming language\n",
    "  * We have multiple ways to write and execute Python code\n",
    "* Python is a *general purpose* programming language\n",
    "  * Functionality like numerics and plotting need to be explicitly included in a project\n",
    "* Python libraries are developed by multiple *(third) parties*\n",
    "  * For certain functionality, there might be (a) multiple implementations or (b) no implementations at all\n",
    "  * Documentation of these third-party libraries is very heterogeneous\n",
    "* Python is *free* software\n",
    "  * No cost\n",
    "  * You could (theoretically) create/adapt your own version of Python\n",
    "  * Still, Python may be used to write commercial software"
   ]
  },
  {
   "cell_type": "markdown",
   "metadata": {
    "slideshow": {
     "slide_type": "slide"
    }
   },
   "source": [
    "# Further reading\n",
    "## General Python introductions"
   ]
  },
  {
   "cell_type": "markdown",
   "metadata": {
    "slideshow": {
     "slide_type": "fragment"
    }
   },
   "source": [
    "Jake VanderPlas: *A Whirlwind Tour of Python*\n",
    "\n",
    "* A brief general introduction to the Python programming language\n",
    "* [Free PDF version](http://www.oreilly.com/programming/free/files/a-whirlwind-tour-of-python.pdf) (ca. 100 pages)\n",
    "* [Github repository](https://github.com/jakevdp/WhirlwindTourOfPython)\n",
    "\n",
    "Jake VanderPlas: *Python Data Science Handbook*\n",
    "\n",
    "* Building on *A Whirlwind Tour of Python*\n",
    "* Special focus on Python use in science (data input/output, numerics, visualization)\n",
    "* [Free HTML version](https://jakevdp.github.io/PythonDataScienceHandbook/)\n",
    "* [Github repository](https://github.com/jakevdp/PythonDataScienceHandbook)\n",
    "\n",
    "This tutorial borrows heavily from both!"
   ]
  },
  {
   "cell_type": "markdown",
   "metadata": {
    "slideshow": {
     "slide_type": "slide"
    }
   },
   "source": [
    "# Further reading\n",
    "## Python for Matlab users"
   ]
  },
  {
   "cell_type": "markdown",
   "metadata": {
    "slideshow": {
     "slide_type": "fragment"
    }
   },
   "source": [
    "* *Enthought*'s webinar: [*Python for MATLAB Users, What You Need to Know*](https://www.youtube.com/watch?v=YkCegjtoHFQ) (YouTube video, ca. 45 minutes)\n",
    "* Official documentation of the NumPy/SciPy packages: [*NumPy for Matlab users*](https://docs.scipy.org/doc/numpy-1.15.0/user/numpy-for-matlab-users.html)\n",
    "* Scott Sievert: [*Stepping from Matlab to Python*](https://stsievert.com/blog/2015/09/01/matlab-to-python/) (extensive blog post with some practival guidance)\n",
    "* *Mathesaurus*: [*NumPy for MATLAB users*](http://mathesaurus.sourceforge.net/matlab-numpy.html) (extensive comparison table, but a bit outdated)"
   ]
  },
  {
   "cell_type": "markdown",
   "metadata": {
    "slideshow": {
     "slide_type": "slide"
    }
   },
   "source": [
    "# Python syntax overview"
   ]
  },
  {
   "cell_type": "markdown",
   "metadata": {
    "slideshow": {
     "slide_type": "fragment"
    }
   },
   "source": [
    "Let's look at the following bit of code (and run it by pressing `Shift`+`Enter`):"
   ]
  },
  {
   "cell_type": "code",
   "execution_count": null,
   "metadata": {
    "slideshow": {
     "slide_type": "-"
    }
   },
   "outputs": [],
   "source": [
    "i = \"Hello!\"\n",
    "print(\"Before the loop:\", i)\n",
    "for i in range(3):  # `i` will iterate over 3 values: 0, 1, 2\n",
    "    if i == 1:\n",
    "        print(\"This is special - iteration\", i)\n",
    "    else:\n",
    "        print(\"Inside the loop - iteration\", i)\n",
    "print(\"After the loop!\")"
   ]
  },
  {
   "cell_type": "markdown",
   "metadata": {
    "slideshow": {
     "slide_type": "-"
    }
   },
   "source": [
    "### Things to note:\n",
    "* Comments start with `#`\n",
    "* There is no special end-of-line marker\n",
    "* Indentation matters!"
   ]
  },
  {
   "cell_type": "markdown",
   "metadata": {
    "slideshow": {
     "slide_type": "slide"
    }
   },
   "source": [
    "### End of line"
   ]
  },
  {
   "cell_type": "markdown",
   "metadata": {
    "slideshow": {
     "slide_type": "fragment"
    }
   },
   "source": [
    "In general, the end of a line of Python code is the end of the line of text."
   ]
  },
  {
   "cell_type": "code",
   "execution_count": null,
   "metadata": {
    "slideshow": {
     "slide_type": "-"
    }
   },
   "outputs": [],
   "source": [
    "x = 1\n",
    "y = x + 1"
   ]
  },
  {
   "cell_type": "markdown",
   "metadata": {
    "slideshow": {
     "slide_type": "fragment"
    }
   },
   "source": [
    "To fuse two consecutive lines, either use brackets `()` or a backslash `\\`."
   ]
  },
  {
   "cell_type": "code",
   "execution_count": null,
   "metadata": {},
   "outputs": [],
   "source": [
    "m = (1 + 1 +\n",
    "     1 + 1)\n",
    "n = 1 + 2 + \\\n",
    "    3 + 4"
   ]
  },
  {
   "cell_type": "markdown",
   "metadata": {
    "slideshow": {
     "slide_type": "fragment"
    }
   },
   "source": [
    "To put two lines of Python code onto the same line of text, use a semicolon `;`."
   ]
  },
  {
   "cell_type": "code",
   "execution_count": null,
   "metadata": {},
   "outputs": [],
   "source": [
    "a = 1; b = 2\n",
    "# This is equivalent to\n",
    "a = 1\n",
    "b = 2\n",
    "# We can do the same with function calls:\n",
    "print(a); print(b)"
   ]
  },
  {
   "cell_type": "markdown",
   "metadata": {
    "slideshow": {
     "slide_type": "fragment"
    }
   },
   "source": [
    "Unlike Matlab, there is *no* distinction between \"silent\" and \"verbose\" code lines (using `;`). All lines are silent by default. To produce an output, use the `print()` function."
   ]
  },
  {
   "cell_type": "code",
   "execution_count": null,
   "metadata": {},
   "outputs": [],
   "source": [
    "print(x)"
   ]
  },
  {
   "cell_type": "markdown",
   "metadata": {
    "slideshow": {
     "slide_type": "slide"
    }
   },
   "source": [
    "### Indentation"
   ]
  },
  {
   "cell_type": "code",
   "execution_count": null,
   "metadata": {},
   "outputs": [],
   "source": [
    "for i in range(3):  # `i` will iterate over 3 values: 0, 1, 2\n",
    "    if i == 1:\n",
    "        print(\"This is special - iteration\", i)\n",
    "    else:\n",
    "        print(\"Inside the loop - iteration\", i)\n",
    "print(\"After the loop!\")"
   ]
  },
  {
   "cell_type": "markdown",
   "metadata": {},
   "source": [
    "* Look at the `for` loop or the `if`-`else` statements: There is no such thing as \"end\", \"endif\", or \"endfor\" in Python.\n",
    "* What belongs to the loop and to the parts of the condition really only depends on the level of indentation.\n",
    "* For indentation, either use tabs or spaces (usually 4). Both works, but don't mix them."
   ]
  },
  {
   "cell_type": "markdown",
   "metadata": {
    "slideshow": {
     "slide_type": "slide"
    }
   },
   "source": [
    "# Variables\n",
    "## Types"
   ]
  },
  {
   "cell_type": "markdown",
   "metadata": {
    "slideshow": {
     "slide_type": "fragment"
    }
   },
   "source": [
    "### Dynamic typing\n",
    "Python, like Matlab, is a *dynamically typed* language. This means, a variable can change its type over time. The following code is perfectly fine."
   ]
  },
  {
   "cell_type": "code",
   "execution_count": null,
   "metadata": {},
   "outputs": [],
   "source": [
    "x = 1          # now, `x` is an integer\n",
    "x = \"hello\"    # now, `x` is a string\n",
    "x = [0, 1, 2]  # now, `x` is a list"
   ]
  },
  {
   "cell_type": "markdown",
   "metadata": {
    "slideshow": {
     "slide_type": "fragment"
    }
   },
   "source": [
    "### Basic data types\n",
    "Python has all the basic types built in that are necessary for day-to-day general purpose programming: Here is an overview:\n",
    "\n",
    "| Type       | Name                  | Explanation/Examples |\n",
    "| ---------- | --------------------- | ------------------- | \n",
    "| `int`      | integer               | …, $-3$, $-2$, $-1$, $0$, $1$, $2$, $3$, …\n",
    "| `bool`     | Boolean               | `True`, `False`\n",
    "| `float`    | floating-point number | $0.5$, $6.62\\cdot10^{-34}$, `inf`, `NaN`, … \n",
    "| `complex`  | complex number        | `2 + 1j`\n",
    "| `string`   | string                | All kinds of text — also used for single characters\n",
    "| `NoneType` | -                     | void/nothing\n",
    "\n",
    "### A quick comment on the *NoneType*\n",
    "The `NoneType` only has one possible value – `None`. It does not have an equivalent in Matlab and is mainly used in two situations:\n",
    "1. as the return value of functions that do not explicitly return anything,\n",
    "2. as a placeholder for function parameters or variables to signify that they have not been set with an actual, meaningful value."
   ]
  },
  {
   "cell_type": "markdown",
   "metadata": {
    "slideshow": {
     "slide_type": "slide"
    }
   },
   "source": [
    "### Everything is an object\n",
    "\n",
    "In Python, different from many other programming languages, instances of even the most basic types (such as integers or floating point numbers) are *objects*. What does that mean? In programming, an object is an entity that encapsulates both *data* and respective *functionality*.\n",
    "\n",
    "For example, a string (or `str` in Python) brings along its own functionality to get its uppercase representation."
   ]
  },
  {
   "cell_type": "code",
   "execution_count": null,
   "metadata": {},
   "outputs": [],
   "source": [
    "print(\"hello\".upper())"
   ]
  },
  {
   "cell_type": "markdown",
   "metadata": {
    "slideshow": {
     "slide_type": "fragment"
    }
   },
   "source": [
    "Likewise, a floating point number (or `float`) may return itself as a ratio of integers."
   ]
  },
  {
   "cell_type": "code",
   "execution_count": null,
   "metadata": {},
   "outputs": [],
   "source": [
    "print(0.25.as_integer_ratio())"
   ]
  },
  {
   "cell_type": "markdown",
   "metadata": {
    "slideshow": {
     "slide_type": "fragment"
    }
   },
   "source": [
    "In both cases, we called a *method* on an *object*. How do we know, which methods an object provides? Usually, we can directly call the `help()` function on an object."
   ]
  },
  {
   "cell_type": "code",
   "execution_count": null,
   "metadata": {},
   "outputs": [],
   "source": [
    "help(0.25)"
   ]
  },
  {
   "cell_type": "markdown",
   "metadata": {
    "slideshow": {
     "slide_type": "fragment"
    }
   },
   "source": [
    "If that does not work, we first have to find out the type of the object, and then call `help()`."
   ]
  },
  {
   "cell_type": "code",
   "execution_count": null,
   "metadata": {},
   "outputs": [],
   "source": [
    "help(type(\"hello\"))"
   ]
  },
  {
   "cell_type": "markdown",
   "metadata": {
    "slideshow": {
     "slide_type": "slide"
    }
   },
   "source": [
    "# Variables as pointers\n",
    "What do you think will be the output of `print(b)`? Press `Shift`+`Enter` to find out. What would have happened in Matlab?"
   ]
  },
  {
   "cell_type": "code",
   "execution_count": null,
   "metadata": {},
   "outputs": [],
   "source": [
    "a = [1, 2, 3]  # Create a list that contains the integers 1, 2, 3\n",
    "b = a\n",
    "a.append(27)   # Append the integer 27 at the end of `[1, 2, 3]`\n",
    "print(a)\n",
    "print(b)"
   ]
  },
  {
   "cell_type": "markdown",
   "metadata": {
    "slideshow": {
     "slide_type": "fragment"
    }
   },
   "source": [
    "* Variable `b` is the same list as variable `a`! In Matlab, we would have gotten `[1, 2, 3]` for `b` instead!\n",
    "* Rather than thinking of Python variables as \"buckets for values\" we should think of them as \"pointers to values\":\n",
    "  * Both `a` and `b` refer to the *same junk of computer memory* that actually contains our integers 1, 2, 3.\n",
    "  * Once we append 27 to the list, the change is reflected in both variables.\n",
    "  * We would have achieved the same result, writing `b.append(27)` rather than `a.append(27)`."
   ]
  },
  {
   "cell_type": "markdown",
   "metadata": {
    "slideshow": {
     "slide_type": "fragment"
    }
   },
   "source": [
    "What do you think will now be the output of `print(b)`? Press `Shift`+`Enter` to find out. Does the result still fit to the \"pointers vs. buckets\" idea?"
   ]
  },
  {
   "cell_type": "code",
   "execution_count": null,
   "metadata": {},
   "outputs": [],
   "source": [
    "a = [1, 2, 3]\n",
    "b = a\n",
    "a = [1, 2, 3, 27]\n",
    "print(a)\n",
    "print(b)"
   ]
  },
  {
   "cell_type": "markdown",
   "metadata": {
    "slideshow": {
     "slide_type": "fragment"
    }
   },
   "source": [
    "* Although we wrote `b = a`, printing the variables `a` and `b` shows different values in the end.\n",
    "* This is because of the line `a = [1, 2, 3, 27]`:\n",
    "  * It creates a new list in a separate junk of computer memory …\n",
    "  * … and immediately makes `a` refer to the new junk.\n",
    "  * At the same time, `b` still refers to the original junk of memory with the original list."
   ]
  },
  {
   "cell_type": "markdown",
   "metadata": {
    "slideshow": {
     "slide_type": "fragment"
    }
   },
   "source": [
    "What do you think will now be the output of `print(b)`?"
   ]
  },
  {
   "cell_type": "code",
   "execution_count": null,
   "metadata": {},
   "outputs": [],
   "source": [
    "a = 1\n",
    "b = a\n",
    "a = b + 1\n",
    "print(a)\n",
    "print(b)"
   ]
  },
  {
   "cell_type": "markdown",
   "metadata": {
    "slideshow": {
     "slide_type": "fragment"
    }
   },
   "source": [
    "* Again, the third line `a = b + 1` is essential for the different outputs:\n",
    "  * It reads the value to which `b` refers (which is 1), …\n",
    "  * … it adds 1, puts the result into a new junk of computer memory …\n",
    "  * … and immediately makes `a` refer to the new junk.\n",
    "  * At the same time, `b` still refers to the original junk of memory with the original value.\n",
    "* We can see this by printing, after each line, the `id` of our variables (which is actually the memory address of our \"junks of memory\"):"
   ]
  },
  {
   "cell_type": "code",
   "execution_count": null,
   "metadata": {
    "slideshow": {
     "slide_type": "fragment"
    }
   },
   "outputs": [],
   "source": [
    "a = 1       # Line 1\n",
    "print(\"a is located at\", id(a))\n",
    "b = a      # Line 2\n",
    "print(\"b is located at\", id(b))\n",
    "a = b + 1  # Line 3   \n",
    "print(\"a is located at\", id(a))\n",
    "print(\"b is located at\", id(b))"
   ]
  },
  {
   "cell_type": "markdown",
   "metadata": {},
   "source": [
    "* In `Line 1`, we reserve a new junk of memory, put 1 there, and let `a` refer to it.\n",
    "* After `Line 2`, both  `a` and `b` point to the same junk of memory – they have the same memory adress.\n",
    "* After `Line 3`, `a` points to a *new* junk of memory (new memory address) that now contains the result of our addition.\n",
    "* At the same time, `b` still points to the original junk of memory (old memory address) that still contains the old value (1).\n",
    "\n",
    "**Bonus question**: What happens if you type `print(id(1))` and `print(id(2))`? Does that make sense?"
   ]
  },
  {
   "cell_type": "code",
   "execution_count": null,
   "metadata": {},
   "outputs": [],
   "source": []
  },
  {
   "cell_type": "markdown",
   "metadata": {
    "slideshow": {
     "slide_type": "fragment"
    }
   },
   "source": [
    "For a more detailed explanation, see the Python FAQ: [*Why did changing list ‘y’ also change list ‘x’?*](https://docs.python.org/3/faq/programming.html#why-did-changing-list-y-also-change-list-x)"
   ]
  },
  {
   "cell_type": "markdown",
   "metadata": {
    "slideshow": {
     "slide_type": "slide"
    }
   },
   "source": [
    "# Operators\n",
    "\n",
    "## Arithmetic operators on numbers\n",
    "\n",
    "Python defines all standard and some non-standard arithmetic operators on `int` and `float` data:\n",
    "\n",
    "| Operator | Name | Explanation |\n",
    "| -------- | ---- | ----------- | \n",
    "| a + b    | addition\n",
    "| a - b    | subtraction\n",
    "| a * b    | multiplication\n",
    "| a / b    | (regular) division\n",
    "| a // b   | floor division | divide regularly, then round down the result\n",
    "| a % b    | modulo operator | remainder after floor division\n",
    "| a ** b   | exponentiation | $a^b$\n",
    "| -a       | negation\n",
    "\n",
    "While most of them behave quite familiar, the ones related to division deserve a closer look. Let's compare the following:"
   ]
  },
  {
   "cell_type": "code",
   "execution_count": null,
   "metadata": {
    "slideshow": {
     "slide_type": "fragment"
    }
   },
   "outputs": [],
   "source": [
    "print(10 / 3)"
   ]
  },
  {
   "cell_type": "markdown",
   "metadata": {},
   "source": [
    "This is *true division*.\n",
    "* This is division as we know it: $10 / 3 = 3 \\frac{1}{3}$.\n",
    "* Note that the result ends with $5$ rather than $3$. This is because floating point numbers cannot be stored with arbitrary precision on the computer (but that is a topic beyond the focus of this tutorial)."
   ]
  },
  {
   "cell_type": "code",
   "execution_count": null,
   "metadata": {
    "slideshow": {
     "slide_type": "slide"
    }
   },
   "outputs": [],
   "source": [
    "print(10 // 3)"
   ]
  },
  {
   "cell_type": "markdown",
   "metadata": {},
   "source": [
    "This is *floor division*.\n",
    "* We divide as before, then round down.\n",
    "* This is the kind of division many programming languages do with `/`, given integer values .<br/>\n",
    "  Python 3, like Matlab, uses true division with `/` and all number types. Floor division requires explicit use of `//`."
   ]
  },
  {
   "cell_type": "code",
   "execution_count": null,
   "metadata": {
    "slideshow": {
     "slide_type": "fragment"
    }
   },
   "outputs": [],
   "source": [
    "print(10 % 3)"
   ]
  },
  {
   "cell_type": "markdown",
   "metadata": {},
   "source": [
    "This is the *modulo operation*.\n",
    "\n",
    "* It produces the remainder after floor division.\n",
    "* For positive numbers, this probably matches the kind of division that you first learned in primary school: $3$ completely fits $3$ times into $10$. But as $3\\cdot3=9$, a remainder of $1$ remains.\n",
    "\n",
    "We can combine the last two operations to gain the original dividend:"
   ]
  },
  {
   "cell_type": "code",
   "execution_count": null,
   "metadata": {},
   "outputs": [],
   "source": [
    "dividend = 10\n",
    "divisor  = 3\n",
    "print((dividend // divisor) * divisor + (dividend % divisor))"
   ]
  },
  {
   "cell_type": "markdown",
   "metadata": {
    "slideshow": {
     "slide_type": "fragment"
    }
   },
   "source": [
    "Given the last statement, what will be the results of the following lines of code, using negative numbers?"
   ]
  },
  {
   "cell_type": "code",
   "execution_count": null,
   "metadata": {},
   "outputs": [],
   "source": [
    "dividend = 10\n",
    "divisor  = -3\n",
    "\n",
    "print(dividend // divisor)\n",
    "print(dividend % divisor)\n",
    "print((dividend // divisor) * divisor + (dividend % divisor))"
   ]
  },
  {
   "cell_type": "markdown",
   "metadata": {
    "slideshow": {
     "slide_type": "slide"
    }
   },
   "source": [
    "## Arithmetic operators on other types\n",
    "Some types other than numbers also bring about meaningful functionality for arithmetic operators.\n",
    "\n",
    "For example both *lists* and *strings* use `*` and `+` for concatenation."
   ]
  },
  {
   "cell_type": "code",
   "execution_count": null,
   "metadata": {},
   "outputs": [],
   "source": [
    "print(\"apple\" + \"pie\")\n",
    "print(\"bla\" * 3)\n",
    "\n",
    "print([1, 2] + [3, 4] + [5])\n",
    "print([1, 0] * 4)"
   ]
  },
  {
   "cell_type": "markdown",
   "metadata": {
    "slideshow": {
     "slide_type": "slide"
    }
   },
   "source": [
    "## Assignment and shorthand operators"
   ]
  },
  {
   "cell_type": "markdown",
   "metadata": {},
   "source": [
    "By now, we have implicitly used the assignment operator `=` quite a bit:"
   ]
  },
  {
   "cell_type": "code",
   "execution_count": null,
   "metadata": {},
   "outputs": [],
   "source": [
    "counter = 13  # initialize variable `counter` with 13\n",
    "print(counter)"
   ]
  },
  {
   "cell_type": "markdown",
   "metadata": {
    "slideshow": {
     "slide_type": "fragment"
    }
   },
   "source": [
    "Very often in programming, we want to combine an assignment with an operation on a variable's previous value.\n",
    "\n",
    "For example, we want to *increment* or *decrement* a counter variable."
   ]
  },
  {
   "cell_type": "code",
   "execution_count": null,
   "metadata": {},
   "outputs": [],
   "source": [
    "counter = 43  # initialize variable `counter` with 43\n",
    "\n",
    "counter = counter - 2  # decrement `counter` by 2\n",
    "print(counter)\n",
    "\n",
    "counter = counter + 1  # increment `counter` by 1\n",
    "print(counter)"
   ]
  },
  {
   "cell_type": "markdown",
   "metadata": {},
   "source": [
    "Python, like Matlab, provides shorthand notations for this."
   ]
  },
  {
   "cell_type": "code",
   "execution_count": null,
   "metadata": {},
   "outputs": [],
   "source": [
    "counter = 43  # initialize variable with 43\n",
    "\n",
    "counter -= 2  # decrement counter by 2\n",
    "print(counter)\n",
    "\n",
    "counter += 1  # increment counter by 1\n",
    "print(counter)"
   ]
  },
  {
   "cell_type": "markdown",
   "metadata": {
    "slideshow": {
     "slide_type": "fragment"
    }
   },
   "source": [
    "Such a shorthand notation is provided for most binary operators and types. This is usually the same as the full-length notation.\n",
    "\n",
    "In other words, generally speaking, the operation `a = a ∘ b` with the binary operator `∘` can be replaced by `a ∘= b`.\n",
    "\n",
    "What is the result of `a /= 3` and `a **= 2` below?"
   ]
  },
  {
   "cell_type": "code",
   "execution_count": null,
   "metadata": {},
   "outputs": [],
   "source": [
    "a = 6\n",
    "print(a)\n",
    "a /= 3\n",
    "print(a)\n",
    "a **= 2\n",
    "print(a)"
   ]
  },
  {
   "cell_type": "markdown",
   "metadata": {
    "slideshow": {
     "slide_type": "fragment"
    }
   },
   "source": [
    "There is a subtle catch with *mutable* types though, i.e. types that may actually alter their value, such as *lists*. (Remember the example from above?) Here,\n",
    "* the shorthand notation `a ∘= b`  is an *in-place operation*, i.e. the original value is altered, \n",
    "* the full-length notation `a = a ∘ b` returns a new instance of the type. See here:"
   ]
  },
  {
   "cell_type": "code",
   "execution_count": null,
   "metadata": {},
   "outputs": [],
   "source": [
    "l1 = [1, 2, 3]\n",
    "l2 = l1\n",
    "l1 += [4, 5]  # Append `[4, 5]` to the list that both `l1` and `l2` refer to\n",
    "print(l1)\n",
    "print(l2)"
   ]
  },
  {
   "cell_type": "code",
   "execution_count": null,
   "metadata": {},
   "outputs": [],
   "source": [
    "l1 = [1, 2, 3]\n",
    "l2 = l1\n",
    "l1 = l1 + [4, 5]\n",
    "print(l1)  # `l1` now refers to a new list that results from concatenation …\n",
    "print(l2)  # ... while `l2` still refers to the original list, which remains unaltered"
   ]
  },
  {
   "cell_type": "markdown",
   "metadata": {
    "slideshow": {
     "slide_type": "slide"
    }
   },
   "source": [
    "## Comparison\n",
    "Python, like Matlab, provides all usual comparison operators:\n",
    "\n",
    "| Operator | Name / Explanation |\n",
    "| -------- | ------------------ | \n",
    "| a == b   | equals\n",
    "| a != b   | does not equal\n",
    "| a < b    | less than\n",
    "| a > b    | greater than\n",
    "| a <= b   | less than or equal\n",
    "| a >= b   | greater than or equal\n",
    "\n",
    "Note that in Python the $\\neq$ (\"does not equal\") operator is written as `!=`"
   ]
  },
  {
   "cell_type": "markdown",
   "metadata": {},
   "source": [
    "Complete the following piece of code, replacing `...` by the correct comparisons. It should print the correct message, depending on what value we enter for `a`.\n",
    "\n",
    "**Bonus question**: Do you think, the `else` part can ever be reached? If so, how?\n",
    "\n",
    "Side note: even without filling in `...`, we can run the following code without error (albeit with meaningless output). This is because `...` is *also* an object in Python – the `Ellipsis` object – and thus the code below has valid Python syntax. While `...` is used as a placeholder below, we will see its actual meaning later."
   ]
  },
  {
   "cell_type": "code",
   "execution_count": null,
   "metadata": {},
   "outputs": [],
   "source": [
    "a = ...  # We should be able to write any other number instead of `a` here\n",
    "\n",
    "if ...:\n",
    "    print(\"a is zero\")\n",
    "elif ...:\n",
    "    print(\"a is negative\")\n",
    "elif ...:\n",
    "    print(\"a is positive\")\n",
    "else:\n",
    "    print(\"a is very strange\")"
   ]
  },
  {
   "cell_type": "markdown",
   "metadata": {
    "slideshow": {
     "slide_type": "slide"
    }
   },
   "source": [
    "### Truth values\n",
    "The type of such a comparison's result is perhaps not surprising. Do you remember how to find out the type of a value?\n",
    "\n",
    "Print (1.) the *result* of comparing `1` to `2` for equality and (2.) the *type* of this comparison below."
   ]
  },
  {
   "cell_type": "code",
   "execution_count": null,
   "metadata": {},
   "outputs": [],
   "source": []
  },
  {
   "cell_type": "markdown",
   "metadata": {
    "slideshow": {
     "slide_type": "fragment"
    }
   },
   "source": [
    "The result of such a comparison is either `True` or `False`. We sometimes call this a Boolean, or `bool` in Python. This data type corresponds to the `logical` data type in Matlab."
   ]
  },
  {
   "cell_type": "markdown",
   "metadata": {
    "slideshow": {
     "slide_type": "fragment"
    }
   },
   "source": [
    "In calculations, we can use `True` like the value `1` and `False` like the value `0`:"
   ]
  },
  {
   "cell_type": "code",
   "execution_count": null,
   "metadata": {},
   "outputs": [],
   "source": [
    "print(True + 1)  # Same as 1 + 1\n",
    "print(False + 1)  # Same as 0 + 1"
   ]
  },
  {
   "cell_type": "markdown",
   "metadata": {
    "slideshow": {
     "slide_type": "fragment"
    }
   },
   "source": [
    "Conversely, in `if` statements we can use `0` like `False` and non-zero values like `True`:"
   ]
  },
  {
   "cell_type": "code",
   "execution_count": null,
   "metadata": {},
   "outputs": [],
   "source": [
    "for i in range(-3,3):\n",
    "    if i:\n",
    "        print(i, \"I am True\")\n",
    "    elif not i:\n",
    "        print(i, \"I am False\")\n",
    "    else:\n",
    "        print(i, \"I should never happen\")"
   ]
  },
  {
   "cell_type": "markdown",
   "metadata": {
    "slideshow": {
     "slide_type": "slide"
    }
   },
   "source": [
    "### Boolean operators\n",
    "We can combine Boolean data with the boolean operators `and`, `or`, `not`:\n",
    "\n",
    "**Bonus question**: How could you write `not i == 2` in a more simple way?"
   ]
  },
  {
   "cell_type": "code",
   "execution_count": null,
   "metadata": {},
   "outputs": [],
   "source": [
    "for i in range(-10, 10):  # iterate i over 20 values: -10, -9, ..., 8, 9\n",
    "    if i > 0 and not i == 2:\n",
    "        print(i, \"I am positive, but not two!\")\n",
    "    else:\n",
    "        print(i, \"I am either negative, zero, or two!\")"
   ]
  },
  {
   "cell_type": "markdown",
   "metadata": {
    "slideshow": {
     "slide_type": "fragment"
    }
   },
   "source": [
    "Try to fill in the `...`, so that the `if` statement correctly produces the printount for even positive numbers.\n",
    "\n",
    "Hint: you might want to use the modulo operator `%` here."
   ]
  },
  {
   "cell_type": "code",
   "execution_count": null,
   "metadata": {},
   "outputs": [],
   "source": [
    "for i in range(-10, 10):\n",
    "    if ...:\n",
    "        print(i, \"I am positive and even!\")"
   ]
  },
  {
   "cell_type": "markdown",
   "metadata": {
    "slideshow": {
     "slide_type": "slide"
    }
   },
   "source": [
    "### More operators\n",
    "\n",
    "Apart from the arithmetic operators and boolean operators that we have seen above, there are more operators in Python, such as the check for *object identity* with `is`, the check for *membership* with `in`, and the *bitwise* operators (`&`, `|`, `^`, `<<`, `>>`, `~`). You can find more information on them e.g. in the book *A Whirlwind Tour of Python* (recommended for further reading above)."
   ]
  },
  {
   "cell_type": "markdown",
   "metadata": {
    "slideshow": {
     "slide_type": "slide"
    }
   },
   "source": [
    "### Apart from *truth*, there is *truthiness*\n",
    "\n",
    "In Python, we can create `bool` values from other values by calling `bool()`. Surprisingly, this does not only work for numbers in a meaningful way, but also for other types, such as strings or lists:"
   ]
  },
  {
   "cell_type": "code",
   "execution_count": null,
   "metadata": {},
   "outputs": [],
   "source": [
    "a = 0\n",
    "print(a, \"results in\", bool(a))\n",
    "b = 1\n",
    "print(b, \"results in\", bool(b))\n",
    "c = []  # An empty list\n",
    "print(c, \"results in\", bool(c))\n",
    "d = [1, 2, 3]\n",
    "print(d, \"results in\", bool(d))\n",
    "e = \"\"  # An empty string\n",
    "print(e, \"results in\", bool(e))\n",
    "f = \"False\"  # Although we write \"False\" here, this results in `True`. It's just because it is not an empty string!\n",
    "print(f, \"results in\", bool(f))"
   ]
  },
  {
   "cell_type": "markdown",
   "metadata": {
    "slideshow": {
     "slide_type": "fragment"
    }
   },
   "source": [
    "We can see that when we convert an empty list or string to a `bool`, we get `False`. On the other hand, if the list or string is not empty, we get `True`. Such objects are sometimes called *truthy* or *falsy*, as they do not actually have the Boolean value `True` or `False`, but can be interpreted as such. As a rule of thumb:\n",
    "\n",
    "* All kinds of numbers that are zero are *falsy*,\n",
    "* all kinds of collections (such as lists) that are empty are *falsy*,\n",
    "* everything else is *truthy*.\n",
    "\n",
    "The same behavior is shown if we use *truthy/falsy* objects in an `if` statement. This can be very helpful, for example, if we want to do something with a list only if it actually contains something:"
   ]
  },
  {
   "cell_type": "code",
   "execution_count": null,
   "metadata": {},
   "outputs": [],
   "source": [
    "list_of_lists = [[], [1, 2, 3], [1, 2]]  # A list that contains one empty and two non-empty lists\n",
    "for current_list in list_of_lists:  # `current_list` will iterate over all items in `list_of_lists`\n",
    "    if current_list:\n",
    "        print(current_list)\n",
    "    else:\n",
    "        print(\"The current list is empty -- nothing to be seen here!\")"
   ]
  },
  {
   "cell_type": "markdown",
   "metadata": {
    "slideshow": {
     "slide_type": "slide"
    }
   },
   "source": [
    "## Data types for collections\n",
    "We have already seen basic data types, such as `int`, `bool`, and `float`, which (apart from `str`) all can hold *single* values only. However, Python also brings about data types to hold *collections* of values. From these, we have already used lists above, but here is a more complete overview:\n",
    "\n",
    "| Name    | Example                           | Properties |\n",
    "| ------- | --------------------------------- | ---------- |\n",
    "| `list`  | `[1, 1, 2]`                       | ordered collection, mutable\n",
    "| `tuple` | `(1, \"two\", 3)`                   | ordered collection, immutable\n",
    "| `set`   | `{1, 2, 3}`                       | unordered collection of unique elements\n",
    "| `dict`  | `{\"name\": \"John\", \"height\": 180}` | collection of key-value pairs"
   ]
  },
  {
   "cell_type": "markdown",
   "metadata": {
    "slideshow": {
     "slide_type": "slide"
    }
   },
   "source": [
    "### Data access: indexing\n",
    "We can access the elements in a `list`, `tuple` and `dict` (i.e. *dictionary*) objects with the respective index in brackets `[]` after the object or its name (e.g. `my_list[5]`).\n",
    "\n",
    "Try to access the first element in the given list and print it:"
   ]
  },
  {
   "cell_type": "code",
   "execution_count": null,
   "metadata": {},
   "outputs": [],
   "source": [
    "my_list = [\"a\", \"b\", \"c\"]\n",
    "print(...)"
   ]
  },
  {
   "cell_type": "markdown",
   "metadata": {
    "slideshow": {
     "slide_type": "fragment"
    }
   },
   "source": [
    "We note a big difference to Matlab: Python indexing is *zero-based*, i.e. the \"first\" element of a list/tuple is at index 0!\n",
    "\n",
    "Python indexing of ordered collections is best visualized with the following scheme:\n",
    "```\n",
    " 0  —   1  —   2  —   3   <- positive index\n",
    " |      |      |      |\n",
    " | \"a\"  | \"b\"  | \"c\"  |   <- actual content\n",
    " |      |      |      |\n",
    "-3  —  -2  —  -1  — None  <- negative index\n",
    "```\n",
    "\n",
    "The scheme shows two things:\n",
    "1. We have *two* ways of indexing a list:\n",
    "   * one from the *start* with *positive* numbers or 0 (e.g. \"a\" is at index 0, \"c\" is at index 2),\n",
    "   * one from the *end* with *negative* numbers (i.e. \"c\" is at index -1, \"a\" is at index -3)\n",
    "2. If we want to get a sub-collection of a collection, we have to *exclude* the upper bound:"
   ]
  },
  {
   "cell_type": "code",
   "execution_count": null,
   "metadata": {
    "slideshow": {
     "slide_type": "fragment"
    }
   },
   "outputs": [],
   "source": [
    "my_list = [\"a\", \"b\", \"c\"]\n",
    "\n",
    "print(my_list[0:2])  # This will give us the *first two* elements\n",
    "print(my_list[:2])   # Same as above, but shorter\n",
    "\n",
    "print(my_list[-2:None])  # This will give us the *last two* elements\n",
    "print(my_list[-2:])      # Same as above, but written shorter"
   ]
  },
  {
   "cell_type": "markdown",
   "metadata": {
    "slideshow": {
     "slide_type": "fragment"
    }
   },
   "source": [
    "Try to print\n",
    "* the last element of the given list …\n",
    "  * … as the actual element\n",
    "  * … as a (sub)-list containing only the element\n",
    "* the last three elements of the given list\n",
    "* all elements of the list, except for the first and last ones"
   ]
  },
  {
   "cell_type": "code",
   "execution_count": null,
   "metadata": {},
   "outputs": [],
   "source": [
    "l = [\"a\", \"b\", \"c\", \"d\", \"e\", \"f\", \"g\"]\n",
    "print(...)  # the last element itself\n",
    "print(...)  # a list containing the last element only\n",
    "print(...)  # the last three elements\n",
    "print(...)  # all except for the first and last"
   ]
  },
  {
   "cell_type": "markdown",
   "metadata": {
    "slideshow": {
     "slide_type": "fragment"
    }
   },
   "source": [
    "### Data access in dictionaries\n",
    "In a dictionary, we can access all *values* by using their *keys* as index. Dictionaries are mutable, so we can also change the value for each key:"
   ]
  },
  {
   "cell_type": "code",
   "execution_count": null,
   "metadata": {},
   "outputs": [],
   "source": [
    "person = {\"last_name\": \"Doe\", \"first_name\": \"Jane\", \"height\": 170, \"unit\": \"cm\"}\n",
    "\n",
    "print(person[\"first_name\"], person[\"last_name\"])\n",
    "print(person[\"height\"], person[\"unit\"])\n",
    "\n",
    "person[\"height\"] /= 100\n",
    "person[\"unit\"] = \"m\"\n",
    "\n",
    "print(person[\"height\"], person[\"unit\"])"
   ]
  },
  {
   "cell_type": "markdown",
   "metadata": {
    "slideshow": {
     "slide_type": "fragment"
    }
   },
   "source": [
    "To know which keys are valid, we can ask for all of them by calling `keys()` on the dictionary:"
   ]
  },
  {
   "cell_type": "code",
   "execution_count": null,
   "metadata": {},
   "outputs": [],
   "source": [
    "person = {\"last_name\": \"Doe\", \"first_name\": \"John\", \"height\": 170, \"unit\": \"cm\"}\n",
    "print(person.keys())"
   ]
  },
  {
   "cell_type": "markdown",
   "metadata": {
    "slideshow": {
     "slide_type": "slide"
    }
   },
   "source": [
    "## Data type missing: how about vectors and matrices?\n",
    "\n",
    "So far, you might have wondered how to do matrix math in Python. Should we use lists for this?\n",
    "\n",
    "The answer is: no!\n",
    "\n",
    "**Python, unlike Matlab, does *not* have built-in types for vectors and matrices**\n",
    "\n",
    "But:\n",
    "\n",
    "**There is a quasi-standard package for this, which we can install: it is called *Numpy***\n",
    "\n",
    "We will see how to work with *Numpy* in the next lesson."
   ]
  },
  {
   "cell_type": "markdown",
   "metadata": {
    "slideshow": {
     "slide_type": "slide"
    }
   },
   "source": [
    "# Control flow"
   ]
  },
  {
   "cell_type": "markdown",
   "metadata": {
    "slideshow": {
     "slide_type": "fragment"
    }
   },
   "source": [
    "## Conditional statements\n",
    "In Python, `if` statements work pretty much as in Matlab. Key differences:\n",
    "\n",
    "* There is no `end`. The end of an `if` block is defined by *indentation*\n",
    "* `elseif` (Matlab) becomes `elif` (Python)\n",
    "* There must be a colon `:` at the end of each `if`/`elif`/`else` line\n",
    "\n",
    "There are *no* `switch`-`case` statements in Python. We use `if` statements in such situations."
   ]
  },
  {
   "cell_type": "code",
   "execution_count": null,
   "metadata": {},
   "outputs": [],
   "source": [
    "x = input(\"Please enter an integer:\")\n",
    "x = int(x)\n",
    "\n",
    "if x < 0:\n",
    "    print(\"input is negative\")\n",
    "elif x == 0:\n",
    "    print(\"input is zero\")\n",
    "else:\n",
    "    print(\"input is positive\")"
   ]
  },
  {
   "cell_type": "markdown",
   "metadata": {
    "slideshow": {
     "slide_type": "slide"
    }
   },
   "source": [
    "## `for` loops\n",
    "With `for` loops, we can iterate over a predefined collection of items:"
   ]
  },
  {
   "cell_type": "code",
   "execution_count": null,
   "metadata": {},
   "outputs": [],
   "source": [
    "my_list = [\"a\", \"b\", \"c\"]\n",
    "for item in my_list:  # Iterate over all items in my_list\n",
    "    print(item)\n",
    "for value in range(3):  # Iterate over 3 values: 0, 1, 2\n",
    "    print(value)"
   ]
  },
  {
   "cell_type": "markdown",
   "metadata": {
    "slideshow": {
     "slide_type": "fragment"
    }
   },
   "source": [
    "Note that, although it behaves exactly the same here, `range(3)` is not a `list`:"
   ]
  },
  {
   "cell_type": "code",
   "execution_count": null,
   "metadata": {},
   "outputs": [],
   "source": [
    "print(type(range(3)))"
   ]
  },
  {
   "cell_type": "markdown",
   "metadata": {},
   "source": [
    "`range(3)` is a `range` object. These objects produce their values \"on the fly\", rather than storing them all in computer memory. If we want to iterate over *a lot of integer values* in consecutive order, this is extremely memory-efficient."
   ]
  },
  {
   "cell_type": "markdown",
   "metadata": {
    "slideshow": {
     "slide_type": "slide"
    }
   },
   "source": [
    "## `while` loops\n",
    "A `while` loop iterates as long as its condition is fulfilled (we exploit the \"truthiness\" of non-empty lists here):"
   ]
  },
  {
   "cell_type": "code",
   "execution_count": null,
   "metadata": {},
   "outputs": [],
   "source": [
    "my_list = [\"a\", \"b\", \"c\"]\n",
    "while my_list:\n",
    "    last_element = my_list.pop()  # Remove and return the last element\n",
    "    print(\"Last element was:\", last_element, \"-- what remains is:\", my_list)"
   ]
  },
  {
   "cell_type": "markdown",
   "metadata": {
    "slideshow": {
     "slide_type": "fragment"
    }
   },
   "source": [
    "Increment variable `v` in steps of 2 until it reaches the value of 10. Print out the value of `v` each time before incrementing it."
   ]
  },
  {
   "cell_type": "code",
   "execution_count": null,
   "metadata": {},
   "outputs": [],
   "source": [
    "v = -4\n",
    "while False:  # Replace `False` by a suitable condition ...\n",
    "    ...       # ... then do the work here"
   ]
  },
  {
   "cell_type": "markdown",
   "metadata": {
    "slideshow": {
     "slide_type": "slide"
    }
   },
   "source": [
    "# TODO, next lecture\n",
    "* defining functions (differences from Matlab), lambda functions\n",
    "* error handling\n",
    "* Numerics with Numpy\n",
    "* Setting up Python with Anaconda\n",
    "* Writing and debugging Python with Spyder\n",
    "* Plotting with matplotlib\n",
    "* Image I/O with skimage\n",
    "* Data I/O with pandas\n",
    "* …"
   ]
  },
  {
   "cell_type": "code",
   "execution_count": null,
   "metadata": {},
   "outputs": [],
   "source": []
  }
 ],
 "metadata": {
  "celltoolbar": "Slideshow",
  "kernelspec": {
   "display_name": "Python 3",
   "language": "python",
   "name": "python3"
  },
  "language_info": {
   "codemirror_mode": {
    "name": "ipython",
    "version": 3
   },
   "file_extension": ".py",
   "mimetype": "text/x-python",
   "name": "python",
   "nbconvert_exporter": "python",
   "pygments_lexer": "ipython3",
   "version": "3.6.6"
  },
  "rise": {
   "autolaunch": false,
   "scroll": true
  }
 },
 "nbformat": 4,
 "nbformat_minor": 2
}
